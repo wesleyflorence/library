{
 "cells": [
  {
   "cell_type": "markdown",
   "id": "b4ef53cf-6400-4d40-b33c-e5175e046f74",
   "metadata": {},
   "source": [
    "# Rescue of Legacy Goodreads Data\n",
    "Goodreads API has been depreciated for [several years](https://help.goodreads.com/s/article/Does-Goodreads-support-the-use-of-APIs)  \n",
    "Exporting my data to store it elsewhere."
   ]
  },
  {
   "cell_type": "code",
   "execution_count": 74,
   "id": "5443d1f8-eda9-43cb-a9f1-31c96730a797",
   "metadata": {},
   "outputs": [],
   "source": [
    "import pandas as pd"
   ]
  },
  {
   "cell_type": "code",
   "execution_count": 75,
   "id": "6ae524fd-e962-45f3-8956-9761ed43af40",
   "metadata": {},
   "outputs": [],
   "source": [
    "goodreads = pd.read_csv('goodreads_library_export.csv').sort_values(by=['Date Added'])"
   ]
  },
  {
   "cell_type": "markdown",
   "id": "7eb09731-545d-4c32-be7a-2e48ed431782",
   "metadata": {},
   "source": [
    "### Trello\n",
    "Storing data in Markdown format for trello"
   ]
  },
  {
   "cell_type": "code",
   "execution_count": 77,
   "id": "f84649bb-af0b-4eb0-aa09-fc8266287bf2",
   "metadata": {},
   "outputs": [],
   "source": [
    "nested = []\n",
    "for index, row in goodreads.iterrows():\n",
    "    # Markdown Format\n",
    "    md_description = \"### Legacy Goodreads Data\\n\"\n",
    "    for col_name, value in row.items():\n",
    "        if not pd.isnull(value):\n",
    "            md_description += f\"- **{col_name}** : {value}\\n\"\n",
    "    \n",
    "    data = {\n",
    "        'name': row['Title'],\n",
    "        'desc': md_description\n",
    "    }\n",
    "    nested.append(data)"
   ]
  },
  {
   "cell_type": "code",
   "execution_count": 72,
   "id": "b9cf2dec-ceb9-45cf-b787-976658c3e91c",
   "metadata": {},
   "outputs": [],
   "source": [
    "import os\n",
    "from trello import TrelloClient\n",
    "from dotenv import load_dotenv\n",
    "import json\n",
    "\n",
    "load_dotenv()\n",
    "\n",
    "# Trello API credentials\n",
    "API_KEY = os.environ['TRELLO_API_KEY']\n",
    "API_SECRET = os.environ['TRELLO_OAUTH_SECRET']\n",
    "TOKEN = os.environ['TRELLO_TOKEN']\n",
    "\n",
    "# Trello board and list IDs\n",
    "BOARD_NAME = 'Library'\n",
    "LIST_NAME = 'Completed'\n",
    "\n",
    "client = TrelloClient(\n",
    "    api_key=API_KEY,\n",
    "    api_secret=API_SECRET,\n",
    "    token=TOKEN,\n",
    ")\n",
    "\n",
    "board = next(x for x in client.list_boards() if x.name == BOARD_NAME)\n",
    "completed_list = next((lst for lst in board.list_lists() if lst.name == LIST_NAME), None)\n",
    "if not completed_list: \n",
    "    print(f\"List '{LIST_NAME}' not found in board\")\n",
    "    exit(1)\n",
    "\n",
    "completed_books = [{'name': card.name, 'desc': card.description} for card in completed_list.list_cards()]"
   ]
  },
  {
   "cell_type": "markdown",
   "id": "dfc9098a-fc3c-412c-a862-ea9d0cc9346a",
   "metadata": {},
   "source": [
    "#### Adding Cards"
   ]
  },
  {
   "cell_type": "code",
   "execution_count": 1,
   "id": "fd28b1d8-ee2b-4096-a99c-55cb0a27d40c",
   "metadata": {},
   "outputs": [],
   "source": [
    "for book in nested[::-1]:\n",
    "    print(f\"adding {book['name']}\")\n",
    "    new_card = completed_list.add_card(\n",
    "        name=book['name'],\n",
    "        desc=book['desc'],\n",
    "        position='bottom'\n",
    "    )"
   ]
  },
  {
   "cell_type": "markdown",
   "id": "8b90c777-3e60-4619-92a2-691566647dd0",
   "metadata": {},
   "source": [
    "#### Getting some metadata from Google Books"
   ]
  },
  {
   "cell_type": "code",
   "execution_count": 86,
   "id": "eb4254cb-ab02-486c-9989-17b791d27a62",
   "metadata": {},
   "outputs": [],
   "source": [
    "import requests\n",
    "\n",
    "def get_book_info_from_title(title, api_key):\n",
    "    formatted_title = '+'.join(title.split())\n",
    "    url = f\"https://www.googleapis.com/books/v1/volumes?q=intitle:{formatted_title}\"\n",
    "    response = requests.get(url)\n",
    "    if response.status_code == 200:\n",
    "        data = response.json()\n",
    "\n",
    "        # Parse the response to find the ISBN and the canonical volume link\n",
    "        items = data.get('items', [])\n",
    "        if not items:\n",
    "            print(f\"No results found for title: {title}\")\n",
    "            return None, None\n",
    "        else:\n",
    "            # Assuming the first result is the desired book\n",
    "            book = items[0]\n",
    "            volume_info = book['volumeInfo']\n",
    "            industry_identifiers = volume_info.get('industryIdentifiers', [])\n",
    "            isbn_13 = None\n",
    "            isbn_10 = None\n",
    "            for identifier in industry_identifiers:\n",
    "                if identifier['type'] == 'ISBN_13':\n",
    "                    isbn_13 = identifier['identifier']\n",
    "                elif identifier['type'] == 'ISBN_10':\n",
    "                    isbn_10 = identifier['identifier']\n",
    "\n",
    "            # Use the ISBN-13 if available, else fall back to ISBN-10\n",
    "            isbn = isbn_13 if isbn_13 else isbn_10\n",
    "            link_val = volume_info.get('infoLink', '')\n",
    "            return isbn, link_val\n",
    "    else:\n",
    "        print(f\"Failed to fetch data for title: {title}\")\n",
    "        return None, None"
   ]
  },
  {
   "cell_type": "code",
   "execution_count": 2,
   "id": "5e713e13-715b-4460-9f07-a900c2bb374e",
   "metadata": {},
   "outputs": [],
   "source": [
    "board = next(x for x in client.list_boards() if x.name == BOARD_NAME)\n",
    "completed_list = next((lst for lst in board.list_lists() if lst.name == LIST_NAME), None)\n",
    "if not completed_list: \n",
    "    print(f\"List '{LIST_NAME}' not found in board\")\n",
    "    exit(1)\n",
    "\n",
    "for card in completed_list.list_cards():\n",
    "    isbn, google_books_link = get_book_info_from_title(card.name, api_key)\n",
    "\n",
    "    # If an ISBN and link were found, update the card's description\n",
    "    if isbn and google_books_link:\n",
    "        new_description = f\"**ISBN:** {isbn}\\n**Google Books Link:** [View Book]({google_books_link})\\n\\n{card.description}\"\n",
    "        card.set_description(new_description)\n",
    "        print(f\"Updated card '{card.name}' with ISBN and link.\")\n",
    "    else:\n",
    "        print(f\"ISBN/Link not found for '{card.name}'. No updates made.\")"
   ]
  }
 ],
 "metadata": {
  "kernelspec": {
   "display_name": "Python 3 (ipykernel)",
   "language": "python",
   "name": "python3"
  },
  "language_info": {
   "codemirror_mode": {
    "name": "ipython",
    "version": 3
   },
   "file_extension": ".py",
   "mimetype": "text/x-python",
   "name": "python",
   "nbconvert_exporter": "python",
   "pygments_lexer": "ipython3",
   "version": "3.11.5"
  }
 },
 "nbformat": 4,
 "nbformat_minor": 5
}
